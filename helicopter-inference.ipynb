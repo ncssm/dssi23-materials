{
 "cells": [
  {
   "cell_type": "markdown",
   "id": "9c02ccec-3ce5-4ed0-8867-b3f0da3ef57e",
   "metadata": {},
   "source": [
    "# Investigating helipcopter fall time"
   ]
  },
  {
   "cell_type": "code",
   "execution_count": null,
   "id": "0de550be-23e4-4beb-a5ab-09af45a41954",
   "metadata": {
    "tags": []
   },
   "outputs": [],
   "source": [
    "from datascience import *\n",
    "import numpy as np\n",
    "\n",
    "%matplotlib inline\n",
    "import matplotlib.pyplot as plots\n",
    "plots.style.use('fivethirtyeight')"
   ]
  },
  {
   "cell_type": "code",
   "execution_count": null,
   "id": "5407098f-a65b-4c03-bc51-1f86ce74cf46",
   "metadata": {
    "tags": []
   },
   "outputs": [],
   "source": [
    "helicopter = Table.read_table(\"data/DSSI23_helicopter_data.csv\")"
   ]
  },
  {
   "cell_type": "code",
   "execution_count": null,
   "id": "19fc5225-ade2-4351-a016-0138d7d33e40",
   "metadata": {},
   "outputs": [],
   "source": [
    "good_helicopter = helicopter.where('Time', are.not_equal_to(\"nan\")).where('Anomaly', are.equal_to(\"No\"))"
   ]
  },
  {
   "cell_type": "code",
   "execution_count": null,
   "id": "dd35d6a7-544c-495d-ae15-0972bcc9ee94",
   "metadata": {
    "tags": []
   },
   "outputs": [],
   "source": [
    "good_helicopter"
   ]
  },
  {
   "cell_type": "markdown",
   "id": "95400f94-e45e-4e33-a00d-f33ff646b9df",
   "metadata": {},
   "source": [
    "## Determined the observed statistic\n",
    "\n",
    "We'll use the difference between the average time for the long rotor and short rotor as our statistic. To compute the value, we can use a few of our Table methods to do this quickly."
   ]
  },
  {
   "cell_type": "markdown",
   "id": "a8f67495-8834-4710-b190-cb1b5e0ac59d",
   "metadata": {},
   "source": [
    "### Use `.group`\n",
    "\n",
    "Use the `.group` method to easily calculate the average time for each rotor length group."
   ]
  },
  {
   "cell_type": "code",
   "execution_count": null,
   "id": "1012cb2b-f4a5-4c6a-90ba-8537acc0d7b4",
   "metadata": {
    "tags": []
   },
   "outputs": [],
   "source": [
    "good_helicopter.group('Rotor Length', np.nanmean)"
   ]
  },
  {
   "cell_type": "markdown",
   "id": "2567e372-9af4-4348-ab25-7051668ef92e",
   "metadata": {},
   "source": [
    "### Use `.column`\n",
    "You can select the two average times from this table by using `.column` to create an array with the two values of interest."
   ]
  },
  {
   "cell_type": "code",
   "execution_count": null,
   "id": "918bf697-91e6-46ba-94bc-0d4f819f505b",
   "metadata": {
    "tags": []
   },
   "outputs": [],
   "source": [
    "good_helicopter.group('Rotor Length', np.nanmean).column(\"Time nanmean\")"
   ]
  },
  {
   "cell_type": "markdown",
   "id": "cf17aaf0-494e-4cb2-93d0-589b74909542",
   "metadata": {},
   "source": [
    "### Use `.item`\n",
    "\n",
    "The `.item` method will select a single item out of an array."
   ]
  },
  {
   "cell_type": "code",
   "execution_count": null,
   "id": "c5a02b84-f997-4e24-86e4-6491447de99b",
   "metadata": {
    "tags": []
   },
   "outputs": [],
   "source": [
    "good_helicopter.group('Rotor Length', np.nanmean).column(\"Time nanmean\").item(0)"
   ]
  },
  {
   "cell_type": "code",
   "execution_count": null,
   "id": "f9f2d0f2-f8e1-4d87-9608-95d431166d10",
   "metadata": {
    "tags": []
   },
   "outputs": [],
   "source": [
    "good_helicopter.group('Rotor Length', np.nanmean).column(\"Time nanmean\").item(1)"
   ]
  },
  {
   "cell_type": "markdown",
   "id": "c841d5ba-bd73-46c1-a849-ca8af8c74e43",
   "metadata": {},
   "source": [
    "### Putting it all together\n",
    "\n",
    "Combining `.group`, `.column`, and `.item` allows you to create one expression that can compute the difference of means that we're hoping to use."
   ]
  },
  {
   "cell_type": "code",
   "execution_count": null,
   "id": "28f98b44-9189-4e71-9514-d4b4ea299c82",
   "metadata": {
    "tags": []
   },
   "outputs": [],
   "source": [
    "good_helicopter.group('Rotor Length', np.nanmean).column(\"Time nanmean\").item(0) - good_helicopter.group('Rotor Length', np.nanmean).column(\"Time nanmean\").item(1)"
   ]
  },
  {
   "cell_type": "markdown",
   "id": "c5852cb8-2d44-46b7-bc40-3a9dafcd00f8",
   "metadata": {},
   "source": [
    "## Write a function to compute the statistic\n",
    "\n",
    "Since our simulation will require us to run the same calculation over and over to compute the statistic of interest, it would be helpful to write a function that can compute for us. A function allows you to reuse the same logic and calculations, but for different configurations of our Table. The function below illustrates how to write a Python function that can perform the same calculation as earlier, but for on Table provided as an input."
   ]
  },
  {
   "cell_type": "code",
   "execution_count": null,
   "id": "4e97805a-7fd4-4245-ac6d-260b80a65e8d",
   "metadata": {
    "tags": []
   },
   "outputs": [],
   "source": [
    "def difference_of_means(table_input, group_label):\n",
    "    first_mean = table_input.group(group_label, np.nanmean).column(\"Time nanmean\").item(0)\n",
    "    second_mean = table_input.group(group_label, np.nanmean).column(\"Time nanmean\").item(1)\n",
    "    return first_mean - second_mean"
   ]
  },
  {
   "cell_type": "markdown",
   "id": "7bf3da08-ee22-4645-9df6-282f3d4c6e91",
   "metadata": {},
   "source": [
    "We can confirm that this function obtains the same result as our original commands above by providing it the same Table and same group label as earlier."
   ]
  },
  {
   "cell_type": "code",
   "execution_count": null,
   "id": "84f3c2fd-4d7e-43f2-8a22-b3df56ecc844",
   "metadata": {
    "tags": []
   },
   "outputs": [],
   "source": [
    "difference_of_means(good_helicopter, \"Rotor Length\")"
   ]
  },
  {
   "cell_type": "markdown",
   "id": "537edb29-bae2-4c4e-917e-09ec6f7efb31",
   "metadata": {},
   "source": [
    "Let's save this value to `observed_diffrence` so we can reference it again later."
   ]
  },
  {
   "cell_type": "code",
   "execution_count": null,
   "id": "081b41b6-7d67-4d35-be67-e276a0022777",
   "metadata": {
    "tags": []
   },
   "outputs": [],
   "source": [
    "observed_difference = difference_of_means(good_helicopter, \"Rotor Length\")"
   ]
  },
  {
   "cell_type": "markdown",
   "id": "bacacca3-c4d3-40b7-8320-e046340b4c97",
   "metadata": {},
   "source": [
    "Now we have a function we can use to easily calculate our statistic for any Table we create!"
   ]
  },
  {
   "cell_type": "markdown",
   "id": "6ba58b20-04a3-4bf3-97e9-1faeb0302bb0",
   "metadata": {},
   "source": [
    "## Write a function to shuffle the labels\n",
    "\n",
    "We'll want to shuffle the observations between the groups, \"Long\" and \"Short\", to simulate under the conditions of our null hypothesis, that any difference between the average fall times is simply due to chance. Put another way, that the difference between the average fall times in these groups is 0. The code below achieves this result by effective reassigning the labels \"Long\" and \"Short\" to each of the rows in the Table."
   ]
  },
  {
   "cell_type": "code",
   "execution_count": null,
   "id": "89ebec86-46c4-4f2d-83f1-cded95b47559",
   "metadata": {
    "tags": []
   },
   "outputs": [],
   "source": [
    "def shuffle_table(table_input, group_label):\n",
    "    labels = table_input.column(group_label)\n",
    "    np.random.shuffle(labels)\n",
    "    table_with_shuffled_labels = table_input.with_column(\"shuffled group labels\", labels)\n",
    "    return difference_of_means(table_with_shuffled_labels, \"shuffled group labels\")"
   ]
  },
  {
   "cell_type": "code",
   "execution_count": null,
   "id": "1095939e-31ed-4427-b399-fb84e1295078",
   "metadata": {
    "tags": []
   },
   "outputs": [],
   "source": [
    "shuffle_table(good_helicopter, \"Rotor Length\")"
   ]
  },
  {
   "cell_type": "markdown",
   "id": "28335093-eec2-4d06-995e-d8e5369e48dc",
   "metadata": {},
   "source": [
    "## Simulate the process\n",
    "\n",
    "Now all we need to do is simulate the shuffling many, many times. A loop is a programming concept that allows for the same set of operations to be run several times in sequence. The loop below will shuffle the table, compute the statistic for the shuffled table, and then append the statistic to an array named `statistics`."
   ]
  },
  {
   "cell_type": "code",
   "execution_count": null,
   "id": "3fa87ad1-f1f3-44f1-89e2-2b8e73f72216",
   "metadata": {
    "tags": []
   },
   "outputs": [],
   "source": [
    "repetitions = 200\n",
    "statistics = make_array()\n",
    "\n",
    "for i in np.arange(repetitions):\n",
    "    statistics = np.append( shuffle_table(good_helicopter, \"Rotor Length\"), statistics )"
   ]
  },
  {
   "cell_type": "code",
   "execution_count": null,
   "id": "9ad2506c-b2d5-47b1-bfb0-d47aabc8b200",
   "metadata": {
    "tags": []
   },
   "outputs": [],
   "source": [
    "statistics"
   ]
  },
  {
   "cell_type": "markdown",
   "id": "575b1a40-d2ce-4901-ba46-1a0d5a8d87ff",
   "metadata": {},
   "source": [
    "## Visualize the distribution\n",
    "\n",
    "Let's put our array into a Table so we can create a histogram."
   ]
  },
  {
   "cell_type": "code",
   "execution_count": null,
   "id": "a9fb8c4b-afa2-4f36-b49d-27ece6cca232",
   "metadata": {
    "tags": []
   },
   "outputs": [],
   "source": [
    "result = Table().with_column(\"Difference of means\", statistics)"
   ]
  },
  {
   "cell_type": "code",
   "execution_count": null,
   "id": "d65aaabe-a6d7-4bd7-92ce-8bd52b9dcfd2",
   "metadata": {
    "tags": []
   },
   "outputs": [],
   "source": [
    "result"
   ]
  },
  {
   "cell_type": "code",
   "execution_count": null,
   "id": "8451045c-b9ed-4e53-92ba-d359a68b098f",
   "metadata": {
    "tags": []
   },
   "outputs": [],
   "source": [
    "result.hist()\n",
    "plots.scatter(observed_difference, -.2, color = 'red', s = 60, zorder = 2, marker=\"^\");"
   ]
  },
  {
   "cell_type": "markdown",
   "id": "f4bb4cda-7ab9-4364-8ecd-d7a4ee61484d",
   "metadata": {},
   "source": [
    "### Compute p-value\n",
    "\n",
    "We can use some array functions to quickly compute how many of our simulation statistics were more extreme than our observed statistic."
   ]
  },
  {
   "cell_type": "code",
   "execution_count": null,
   "id": "33e7c685-0a75-4769-bfb7-7163e8b0df2e",
   "metadata": {
    "tags": []
   },
   "outputs": [],
   "source": [
    "np.count_nonzero(statistics >= observed_difference)"
   ]
  },
  {
   "cell_type": "markdown",
   "id": "ce22a7be-64d2-4335-9e3e-86ba2d9eece9",
   "metadata": {},
   "source": [
    "And then, dividing this by the number of shufflings that took place, we can compute the p-value."
   ]
  },
  {
   "cell_type": "code",
   "execution_count": null,
   "id": "73b50932-8c2f-491a-bc46-b4468eef3910",
   "metadata": {
    "tags": []
   },
   "outputs": [],
   "source": [
    "np.count_nonzero(statistics >= observed_difference) / repetitions"
   ]
  }
 ],
 "metadata": {
  "kernelspec": {
   "display_name": "Python 3 (ipykernel)",
   "language": "python",
   "name": "python3"
  },
  "language_info": {
   "codemirror_mode": {
    "name": "ipython",
    "version": 3
   },
   "file_extension": ".py",
   "mimetype": "text/x-python",
   "name": "python",
   "nbconvert_exporter": "python",
   "pygments_lexer": "ipython3",
   "version": "3.9.9"
  }
 },
 "nbformat": 4,
 "nbformat_minor": 5
}
